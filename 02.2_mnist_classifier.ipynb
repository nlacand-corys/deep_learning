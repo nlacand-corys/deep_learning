{
  "cells": [
    {
      "cell_type": "markdown",
      "metadata": {
        "id": "UhX5f0wj9jbl"
      },
      "source": [
        "![Practicum AI Logo image](https://github.com/nlacand-corys/deep_learning/blob/main/images/practicum_ai_logo.png?raw=1) <img src='https://github.com/nlacand-corys/deep_learning/blob/main/images/practicumai_deep_learning.png?raw=1' alt='Practicum AI: Deep Learning Foundations icon' align='right' width=50>\n",
        "\n",
        "***\n",
        "# *Practicum AI:* Deep Learning - MNIST Classifier\n",
        "\n",
        "This exercise adapted from Baig et al. (2020) <i>The Deep Learning Workshop</i> from <a href=\"https://www.packtpub.com/product/the-deep-learning-workshop/9781839219856\">Packt Publishers</a> (Exercise 2.07, page 92).\n",
        "\n",
        "## Amelia's AI Adventure Continues...\n",
        "\n",
        "<img alt=\"A cartoon of Dr. Amelia's dog looking at a computer with a stack of papers next to it showing some handwritten digits.\" src=\"https://github.com/nlacand-corys/deep_learning/blob/main/images/Amelias_Dog_MNIST.jpg?raw=1\" padding=20 align=\"right\" width=250>Amelia and her nutrition studies are back! After her adventures with image recognition and binary classification, she's curious to dive deeper.\n",
        "\n",
        "While Amelia's data collection process is working for most participants in her study, some do not like using the phone application to submit their survey responses. They keep sending in handwritten responses. Realizing that the data from these study participants is still vital to her research, Dr. Amelia is now looking to automate entering these responses using a program to read the numbers that make up the survey responses.\n",
        "\n",
        "Again, Amelia decides to start with the basics: recognizing handwritten numbers. That's where the MNIST dataset comes in. With its vast collection of handwritten digits, it's the perfect training ground for Amelia's next AI venture.\n",
        "\n",
        "**Note:** The cartoon of Dr Amelia's dog was generated with AI's assistance.\n",
        "\n",
        "Training a model on the MNIST dataset is often considered the \"Hello world!\" of AI. It is a commonly used first introduction to image recognition with deep learning.\n",
        "\n",
        "\n",
        "![AI Application Development Pathway model](https://github.com/PracticumAI/deep_learning_2_draft/blob/main/M3-AppDev.00_00_22_23.Still001.png?raw=true)\n",
        "\n",
        " >&#128221; While you're going through this notebook, see if you can figure out which steps here are associated with each of the steps of the Development Pathway.\n",
        "\n",
        "## MNIST Handwritten Digit Classification Dataset\n",
        "\n",
        "The [MNIST](http://yann.lecun.com/exdb/mnist/) (Modified National Institute of Standards and Technology) training dataset contains 60,000 28×28 pixel grayscale images of handwritten single digits between 0 and 9, with an additional 10,000 images available for testing.\n",
        "\n",
        "The MNIST dataset is frequently used in machine learning research and has become a standard benchmark for image classification models. Top-performing models often achieve a classification accuracy above 99%, with an error rate between 0.4% and 0.2% on the hold-out test dataset.\n",
        "\n",
        "In this exercise, you will implement a deep neural network (multi-layer) capable of classifying these images of handwritten digits into one of 10 classes.\n",
        "\n",
        "Amelia knows that to start any AI project, she'll need the right tools. She begins by importing the necessary libraries to set the stage for her digit-reading neural network.\n",
        "\n",
        "## 1. Import libraries\n",
        "\n",
        "Import the necessary libraries."
      ]
    },
    {
      "cell_type": "code",
      "execution_count": 1,
      "metadata": {
        "id": "c8l1OshJ9jbn"
      },
      "outputs": [],
      "source": [
        "import tensorflow as tf   # Import the TensorFlow library, which provides tools for machine learning and deep learning.\n",
        "import pandas as pd\n",
        "import numpy as np\n",
        "\n",
        "import matplotlib.pyplot as plt  # Import the matplotlib library for plotting and visualization.\n",
        "# This line allows for the display of plots directly within the Jupyter notebook interface.\n",
        "%matplotlib inline\n",
        "\n",
        "# Import Keras libraries\n",
        "from tensorflow.keras.models import Sequential  # Import the Sequential model: a linear stack of layers from Keras module in TensorFlow.\n",
        "from tensorflow.keras.layers import Dense  # Import the Dense layer: a fully connected neural network layer from Keras module in TensorFlow.\n",
        "from tensorflow.keras.layers import Flatten  # Import the Flatten layer: used to convert input data into a 1D array from Keras module in TensorFlow."
      ]
    },
    {
      "cell_type": "markdown",
      "metadata": {
        "id": "tabtbgDG9jbo"
      },
      "source": [
        "## 2. Load the MNIST dataset\n",
        "\n",
        "Amelia will need to import the MNIST dataset from the [Keras module](https://keras.io/api/datasets/mnist/). The `train_features` and `test_features` variables contain the training and test images, while `train_labels` and `test_labels` contain the corresponding labels for each item in those datasets.  \n",
        "\n",
        "```python\n",
        "# Import the MNIST dataset from TensorFlow's Keras datasets module\n",
        "mnist = tf.keras.datasets.mnist\n",
        "\n",
        "# Load the MNIST dataset:\n",
        "# - train_features and train_labels are the training images and their corresponding labels.\n",
        "# - test_features and test_labels are the testing images and their corresponding labels.\n",
        "(train_features,train_labels), (test_features,test_labels) = mnist.load_data()\n",
        "```"
      ]
    },
    {
      "cell_type": "code",
      "execution_count": 2,
      "metadata": {
        "id": "b3faYm4G9jbo",
        "outputId": "68bb01e0-cb2a-4f0c-bb53-b3ea5b97dbab",
        "colab": {
          "base_uri": "https://localhost:8080/"
        }
      },
      "outputs": [
        {
          "output_type": "stream",
          "name": "stdout",
          "text": [
            "Downloading data from https://storage.googleapis.com/tensorflow/tf-keras-datasets/mnist.npz\n",
            "11490434/11490434 [==============================] - 0s 0us/step\n"
          ]
        }
      ],
      "source": [
        "# Code it!\n",
        "# Import the MNIST dataset from TensorFlow's Keras datasets module\n",
        "mnist = tf.keras.datasets.mnist\n",
        "\n",
        "# Load the MNIST dataset:\n",
        "# - train_features and train_labels are the training images and their corresponding labels.\n",
        "# - test_features and test_labels are the testing images and their corresponding labels.\n",
        "(train_features,train_labels), (test_features,test_labels) = mnist.load_data()"
      ]
    },
    {
      "cell_type": "markdown",
      "metadata": {
        "id": "4Eb8-Y3Z9jbo"
      },
      "source": [
        "## 3. Visualize the data\n",
        "\n",
        "Before we start to work with data, it is always good to get a better idea of what we are working with.\n",
        "\n",
        "How many images do we have in our training and testing datasets? (Hint, remember the `len()` function.)"
      ]
    },
    {
      "cell_type": "code",
      "execution_count": 7,
      "metadata": {
        "id": "k6ttKv3Q9jbo",
        "outputId": "56acce63-bbf0-4007-c24f-f6290c8ce702",
        "colab": {
          "base_uri": "https://localhost:8080/"
        }
      },
      "outputs": [
        {
          "output_type": "stream",
          "name": "stdout",
          "text": [
            "Number of Training Images: 60000 - Number of Testing Images: 10000\n"
          ]
        }
      ],
      "source": [
        "# Code it!\n",
        "nb_img_tr_ds = len(train_features)\n",
        "nb_img_tst_ds = len(test_features)\n",
        "print(f\"Number of Training Images: {nb_img_tr_ds} - Number of Testing Images: {nb_img_tst_ds}\")"
      ]
    },
    {
      "cell_type": "markdown",
      "metadata": {
        "id": "CZSHqfaf9jbo"
      },
      "source": [
        "Let's have a look at a random image."
      ]
    },
    {
      "cell_type": "code",
      "execution_count": 8,
      "metadata": {
        "tags": [],
        "id": "0sA6cdH_9jbo",
        "outputId": "bad39eb6-83aa-4428-e4ed-dfb3a53559b8",
        "colab": {
          "base_uri": "https://localhost:8080/",
          "height": 933
        }
      },
      "outputs": [
        {
          "output_type": "stream",
          "name": "stdout",
          "text": [
            "[[  0   0   0   0   0   0   0   0   0   0   0   0   0   0   0   0   0   0   0   0   0   0   0   0   0   0   0   0]\n",
            " [  0   0   0   0   0   0   0   0   0   0   0   0   0   0   0   0   0   0   0   0   0   0   0   0   0   0   0   0]\n",
            " [  0   0   0   0   0   0   0   0   0   0   0   0   0   0   0   0   0   0   0   0   0   0   0   0   0   0   0   0]\n",
            " [  0   0   0   0   0   0   0   0   0   0   0   0   0   0   0   0   0   0   0   0   0   0   0   0   0   0   0   0]\n",
            " [  0   0   0   0   0   0   0   0   0   0   0   0   0   0   0   0   0   0   0   0   0   0   0   0   0   0   0   0]\n",
            " [  0   0   0   0   0   0   0   0   0   0   0   0   0   0  70 140 185 115   0   0   0   0   0   0   0   0   0   0]\n",
            " [  0   0   0   0   0   0   0   0   0   0   0   0  10 134 249 254 253 238  49   0   0   0   0   0   0   0   0   0]\n",
            " [  0   0   0   0   0   0   0   0   0   0   0  71 194 253 253 254 253 253  84   0   0   0   0   0   0   0   0   0]\n",
            " [  0   0   0   0   0   0   0   0   0   0  49 238 253 253 230 254 253 253 165   0   0   0   0   0   0   0   0   0]\n",
            " [  0   0   0   0   0   0   0   0   0   0  73 253 253 227  43  78 198 253 240 153  15   0   0   0   0   0   0   0]\n",
            " [  0   0   0   0   0   0   0   0   0   0 165 253 253 228   9   0   6 145 253 253 208  72   0   0   0   0   0   0]\n",
            " [  0   0   0   0   0   0   0   0   0  21 214 253 253 253 110   0   0   7  87 253 253 168   0   0   0   0   0   0]\n",
            " [  0   0   0   0   0   0   0   0   0 165 253 180  36  36  19   0   0   0   7  65 231 201  14   0   0   0   0   0]\n",
            " [  0   0   0   0   0   0   0   0  21 212 253 117   0   0   0   0   0   0   0   0 194 253  88   0   0   0   0   0]\n",
            " [  0   0   0   0   0   0   0   0  49 253 218  25   0   0   0   0   0   0   0   0 194 253  99   0   0   0   0   0]\n",
            " [  0   0   0   0   0   0   0   2 174 254 118   0   0   0   0   0   0   0   0   0 195 254  36   0   0   0   0   0]\n",
            " [  0   0   0   0   0   0   0  37 253 253  60   0   0   0   0   0   0   0   0   6 199 204  15   0   0   0   0   0]\n",
            " [  0   0   0   0   0   0   0  54 253 253  60   0   0   0   0   0   0   0   7  89 253 151   0   0   0   0   0   0]\n",
            " [  0   0   0   0   0   0   0  77 253 253  60   0   0   0   0   0   0   0  72 253 239  39   0   0   0   0   0   0]\n",
            " [  0   0   0   0   0   0   0  37 253 253  60   0   0   0   0   0   0  56 230 253  94   0   0   0   0   0   0   0]\n",
            " [  0   0   0   0   0   0   0  37 253 253  60   0   0   0   0   0  42 185 239 151  14   0   0   0   0   0   0   0]\n",
            " [  0   0   0   0   0   0   0  37 253 253  60   0   0   0   0  51 233 253 164   0   0   0   0   0   0   0   0   0]\n",
            " [  0   0   0   0   0   0   0   6 181 253 191  65   0  89 155 238 253 118  12   0   0   0   0   0   0   0   0   0]\n",
            " [  0   0   0   0   0   0   0   0  60 253 253 246 230 251 253 249  75   9   0   0   0   0   0   0   0   0   0   0]\n",
            " [  0   0   0   0   0   0   0   0   3  40 167 253 253 253 137  11   0   0   0   0   0   0   0   0   0   0   0   0]\n",
            " [  0   0   0   0   0   0   0   0   0   0   0   0   0   0   0   0   0   0   0   0   0   0   0   0   0   0   0   0]\n",
            " [  0   0   0   0   0   0   0   0   0   0   0   0   0   0   0   0   0   0   0   0   0   0   0   0   0   0   0   0]\n",
            " [  0   0   0   0   0   0   0   0   0   0   0   0   0   0   0   0   0   0   0   0   0   0   0   0   0   0   0   0]]\n"
          ]
        },
        {
          "output_type": "display_data",
          "data": {
            "text/plain": [
              "<Figure size 640x480 with 1 Axes>"
            ],
            "image/png": "[encoded data removed]"
          },
          "metadata": {}
        },
        {
          "output_type": "stream",
          "name": "stdout",
          "text": [
            "The true label for this image is a 0.\n"
          ]
        }
      ],
      "source": [
        "# Set line width for numpy array printing\n",
        "np.set_printoptions(linewidth=150)\n",
        "\n",
        "# Select a random number from train_features\n",
        "select = np.random.randint(0,len(train_features))\n",
        "\n",
        "# Print the image array - longer line length above should allow it to have all 28 rows in 1 line\n",
        "print(train_features[select])\n",
        "\n",
        "# Display the image as an actual image\n",
        "plt.imshow(train_features[select], cmap='gray')\n",
        "plt.show()\n",
        "\n",
        "# Print the true label for the image from train_labels\n",
        "print(f\"The true label for this image is a {train_labels[select]}.\")"
      ]
    },
    {
      "cell_type": "markdown",
      "metadata": {
        "id": "MrkeWFQU9jbo"
      },
      "source": [
        "The ouptut of the cell above should help clarify how images are encoded in our data. Each pixel has a value from 0 (black) to 255 (white). Since our images are black and white, we only have one grid of pixels. For color images, we would have three: one for each color, red, green, blue.\n",
        "\n",
        "Our datasets have 60,000 images in the `train_features` and 10,000 images in the `test_features`. We will use these data as we move forward."
      ]
    },
    {
      "cell_type": "markdown",
      "metadata": {
        "id": "ORRt9Dxk9jbp"
      },
      "source": [
        "## 4. Normalize the data\n",
        "\n",
        "Before we normalize the data, look to see what the current maximum value is in `train_features`."
      ]
    },
    {
      "cell_type": "code",
      "execution_count": 13,
      "metadata": {
        "id": "MUHN2r3E9jbp",
        "outputId": "02d97dd7-a1f9-4400-a129-fddfe7d8c88d",
        "colab": {
          "base_uri": "https://localhost:8080/"
        }
      },
      "outputs": [
        {
          "output_type": "execute_result",
          "data": {
            "text/plain": [
              "255"
            ]
          },
          "metadata": {},
          "execution_count": 13
        }
      ],
      "source": [
        "# Code it! What is the max value of train_features?\n",
        "max_val_tr_feat = train_features.max()\n",
        "max_val_tr_feat\n"
      ]
    },
    {
      "cell_type": "markdown",
      "metadata": {
        "id": "ICdFv8c-9jbp"
      },
      "source": [
        "\n",
        "Amelia normalizes the data to ensure her AI model can efficiently process these images. Processing your features so that they are represented by numbers between 0 and 1 is a best practice for AI model development.\n",
        "\n",
        "Normalize the data by scaling the images so their values are between 0 and 1.\n",
        "\n",
        "```python\n",
        "# Normalize the pixel values of the training and testing images to be between 0 and 1.\n",
        "# This is done by dividing each pixel value by 255 (the maximum pixel value for an 8-bit image).\n",
        "# Normalizing improves the training process and convergence.\n",
        "train_features, test_features = train_features / 255.0, test_features / 255.0\n",
        "```"
      ]
    },
    {
      "cell_type": "code",
      "execution_count": 14,
      "metadata": {
        "id": "Q3Q7_aQh9jbp"
      },
      "outputs": [],
      "source": [
        "# Code it!\n",
        "# Normalize the pixel values of the training and testing images to be between 0 and 1.\n",
        "# This is done by dividing each pixel value by 255 (the maximum pixel value for an 8-bit image).\n",
        "# Normalizing improves the training process and convergence.\n",
        "train_features, test_features = train_features / 255.0, test_features / 255.0"
      ]
    },
    {
      "cell_type": "markdown",
      "metadata": {
        "id": "XxaUka5F9jbp"
      },
      "source": [
        "Look at the maximum value of `train features` after normalization."
      ]
    },
    {
      "cell_type": "code",
      "execution_count": 15,
      "metadata": {
        "id": "VbGLnKAS9jbp",
        "outputId": "3abc32ea-c974-4e14-d1d6-778344b6e8e0",
        "colab": {
          "base_uri": "https://localhost:8080/"
        }
      },
      "outputs": [
        {
          "output_type": "execute_result",
          "data": {
            "text/plain": [
              "1.0"
            ]
          },
          "metadata": {},
          "execution_count": 15
        }
      ],
      "source": [
        "# Code it! After normalization, what is the max value of train_features?\n",
        "max_val_tr_feat = train_features.max()\n",
        "max_val_tr_feat"
      ]
    },
    {
      "cell_type": "markdown",
      "metadata": {
        "id": "UlDVChu49jbp"
      },
      "source": [
        "## 5. Build the sequential model\n",
        "\n",
        "Now, the fun part begins! Amelia sets out to build her neural network. In the previous exercises, Amelia called a pre-trained model for image recognition and then built a single-layer network for her binary classifier. With her confidence high, she is going to create this model herself out of multiple layers. This approach gives her (and you!) the most control over the function of the model.\n",
        "\n",
        "Using the Sequential API, build your model according to the following details:\n",
        "\n",
        "* First, add a flattened layer to unroll the 28x28 pixel images into a single array of 784. The model should use the input_shape in the function argument to set the input size in the first layer.\n",
        "* Add a dense hidden layer with 50 units (neurons) and ReLU (Rectified Linear Unit) activation function.\n",
        "   * The ReLU function will allow the model to capture non-linearities.\n",
        "* Add a second, dense hidden layer with 20 units and ReLU activation function.\n",
        "* Add a dense output layer with 10 units and the softmax activation function.\n",
        "   * We use ten neurons, each representing the digits 0-9.\n",
        "   * The softmax function ensures the output values are probabilities that sum to 1, making it suitable for classification.\n",
        "\n",
        "Here's a graphical view of what we are doing:\n",
        "\n",
        "![A diagram of the neural network being created. It shows the input 28X28 image being flattened into a 784 dimension array. That is the input. There are two hidden, fully connected layers with 50 and 20 neurons each. The final output layer has 10 neurons for the 10 classes in our model.](https://github.com/nlacand-corys/deep_learning/blob/main/images/MNIST_neural_network.png?raw=1)\n",
        "\n",
        "\n",
        "Your completed neural network should have four layers. Feel free to experiment with different architectures and build your own model.\n",
        "\n",
        "```python\n",
        "# Instantiate a Sequential model, which allows us to build a neural network by stacking layers in a linear fashion.\n",
        "model = Sequential()\n",
        "\n",
        "# Add a Flatten layer to the model which transforms a 2D matrix (28x28 pixels) into a 1D array.\n",
        "# This is necessary because our input images are 28x28 pixels, and we need to flatten them to feed into a dense layer.\n",
        "model.add(Flatten(input_shape=(28,28)))\n",
        "\n",
        "# Add a Dense (fully connected) layer with 50 units and a ReLU activation function.\n",
        "model.add(Dense(units=50, activation='relu'))\n",
        "\n",
        "# Add another Dense layer with 20 units and a ReLU activation function.\n",
        "model.add(Dense(units=20, activation='relu'))\n",
        "\n",
        "# Add a final Dense layer with 10 units and a softmax activation function.\n",
        "model.add(Dense(units=10, activation='softmax'))\n",
        "```"
      ]
    },
    {
      "cell_type": "code",
      "execution_count": 17,
      "metadata": {
        "id": "ioMKuOb99jbp"
      },
      "outputs": [],
      "source": [
        "# Code it!\n",
        "# Instantiate a Sequential model, which allows us to build a neural network by stacking layers in a linear fashion.\n",
        "model = Sequential()\n",
        "\n",
        "# Add a Flatten layer to the model which transforms a 2D matrix (28x28 pixels) into a 1D array.\n",
        "# This is necessary because our input images are 28x28 pixels, and we need to flatten them to feed into a dense layer.\n",
        "model.add(Flatten(input_shape=(28,28)))\n",
        "\n",
        "# Add a Dense (fully connected) layer with 50 units and a ReLU activation function.\n",
        "model.add(Dense(units=50, activation='relu'))\n",
        "\n",
        "# Add another Dense layer with 20 units and a ReLU activation function.\n",
        "model.add(Dense(units=20, activation='relu'))\n",
        "\n",
        "# Add a final Dense layer with 10 units and a softmax activation function.\n",
        "model.add(Dense(units=10, activation='softmax'))"
      ]
    },
    {
      "cell_type": "markdown",
      "metadata": {
        "id": "DVohoqVt9jbp"
      },
      "source": [
        "## 6. Compile the model\n",
        "\n",
        "Compiling is the next step. Here, Amelia will specify the parts of the model that are not in the layers, namely the optimizer, loss function, and performance metric.\n",
        "\n",
        "To `compile` the model, you need to specify an optimizer, a loss function, and a metric to judge your model's performance.\n",
        "\n",
        "Compile the model with the following specifications:\n",
        "* `adam` optimizer: An optimization algorithm that adjusts the model weights to minimize the loss.\n",
        "* `sparse_categorical_crossentropy` loss function: Suitable for classification tasks with integer labels.\n",
        "* `accuracy` metric: To monitor the accuracy of the model's predictions during training and evaluation.\n",
        "\n",
        "```python\n",
        "model.compile(optimizer='adam', loss='sparse_categorical_crossentropy', metrics=['accuracy'])\n",
        "```"
      ]
    },
    {
      "cell_type": "code",
      "execution_count": 18,
      "metadata": {
        "id": "CsDpWdsD9jbp"
      },
      "outputs": [],
      "source": [
        "# Code it!\n",
        "model.compile(optimizer='adam', loss='sparse_categorical_crossentropy', metrics=['accuracy'])"
      ]
    },
    {
      "cell_type": "markdown",
      "metadata": {
        "id": "VD6jQw2L9jbq"
      },
      "source": [
        "## 7. Inspect the model configuration using the summary function\n",
        "\n",
        "Display a summary of the model's architecture, including the layers, their shapes, and the number of parameters.\n",
        "\n",
        "```python\n",
        "model.summary()\n",
        "```"
      ]
    },
    {
      "cell_type": "code",
      "execution_count": 19,
      "metadata": {
        "id": "abQflLrS9jbq",
        "outputId": "57681221-43e7-4b5f-e42d-f4664ee85a29",
        "colab": {
          "base_uri": "https://localhost:8080/"
        }
      },
      "outputs": [
        {
          "output_type": "stream",
          "name": "stdout",
          "text": [
            "Model: \"sequential\"\n",
            "_________________________________________________________________\n",
            " Layer (type)                Output Shape              Param #   \n",
            "=================================================================\n",
            " flatten (Flatten)           (None, 784)               0         \n",
            "                                                                 \n",
            " dense (Dense)               (None, 50)                39250     \n",
            "                                                                 \n",
            " dense_1 (Dense)             (None, 20)                1020      \n",
            "                                                                 \n",
            " dense_2 (Dense)             (None, 10)                210       \n",
            "                                                                 \n",
            "=================================================================\n",
            "Total params: 40480 (158.12 KB)\n",
            "Trainable params: 40480 (158.12 KB)\n",
            "Non-trainable params: 0 (0.00 Byte)\n",
            "_________________________________________________________________\n"
          ]
        }
      ],
      "source": [
        "# Code it!\n",
        "model.summary()"
      ]
    },
    {
      "cell_type": "markdown",
      "metadata": {
        "id": "_JNWCBcv9jbq"
      },
      "source": [
        "The model summary indicates that this model has 40,480 parameters (weights and biases). **Note**: If your model summary does not show `Total params: 40480`, double check your model was set up correctly."
      ]
    },
    {
      "cell_type": "markdown",
      "metadata": {
        "id": "2RAQgUi_9jbq"
      },
      "source": [
        "## 8. Fit the model to the training data\n",
        "\n",
        "Now, train the model on the MNIST dataset using the `fit` method. Set the training to run for 10 epochs.\n",
        "\n",
        "Train the model using the training data:\n",
        "* `train_features`: the input images\n",
        "* `train_labels`: the true labels for each image\n",
        "* `epochs=10`: the number of times the model will cycle through the entire dataset\n",
        "\n",
        "```python\n",
        "\n",
        "model.fit(train_features, train_labels, epochs=10)\n",
        "```"
      ]
    },
    {
      "cell_type": "code",
      "execution_count": 20,
      "metadata": {
        "id": "bV-Bg3oG9jbq",
        "outputId": "a04f6189-d8ef-4f81-d8ec-cb3429f5fe1f",
        "colab": {
          "base_uri": "https://localhost:8080/"
        }
      },
      "outputs": [
        {
          "output_type": "stream",
          "name": "stdout",
          "text": [
            "Epoch 1/10\n",
            "1875/1875 [==============================] - 8s 3ms/step - loss: 0.3294 - accuracy: 0.9040\n",
            "Epoch 2/10\n",
            "1875/1875 [==============================] - 10s 5ms/step - loss: 0.1570 - accuracy: 0.9539\n",
            "Epoch 3/10\n",
            "1875/1875 [==============================] - 6s 3ms/step - loss: 0.1185 - accuracy: 0.9651\n",
            "Epoch 4/10\n",
            "1875/1875 [==============================] - 5s 3ms/step - loss: 0.0968 - accuracy: 0.9706\n",
            "Epoch 5/10\n",
            "1875/1875 [==============================] - 6s 3ms/step - loss: 0.0813 - accuracy: 0.9748\n",
            "Epoch 6/10\n",
            "1875/1875 [==============================] - 5s 3ms/step - loss: 0.0706 - accuracy: 0.9780\n",
            "Epoch 7/10\n",
            "1875/1875 [==============================] - 5s 3ms/step - loss: 0.0617 - accuracy: 0.9808\n",
            "Epoch 8/10\n",
            "1875/1875 [==============================] - 7s 4ms/step - loss: 0.0549 - accuracy: 0.9826\n",
            "Epoch 9/10\n",
            "1875/1875 [==============================] - 5s 2ms/step - loss: 0.0481 - accuracy: 0.9847\n",
            "Epoch 10/10\n",
            "1875/1875 [==============================] - 6s 3ms/step - loss: 0.0429 - accuracy: 0.9862\n"
          ]
        },
        {
          "output_type": "execute_result",
          "data": {
            "text/plain": [
              "<keras.src.callbacks.History at 0x78166a9e9a20>"
            ]
          },
          "metadata": {},
          "execution_count": 20
        }
      ],
      "source": [
        "# Code it!\n",
        "model.fit(train_features, train_labels, epochs=10)"
      ]
    },
    {
      "cell_type": "markdown",
      "metadata": {
        "id": "7UVAQqGl9jbq"
      },
      "source": [
        "## 9. Evaluate the model\n",
        "\n",
        "Finally, evaluate your model's performance on the test set by calling the model's `evaluate()` method.\n",
        "\n",
        "\n",
        "Evaluate the model's performance using the testing data:\n",
        "* `test_features`: the input images from the testing set\n",
        "* `test_labels`: the true labels for each image in the testing set\n",
        "\n",
        "The `evaluate` method returns the loss value and any additional metrics (in this case, accuracy) for the model on the testing data.\n",
        "\n",
        "```python\n",
        "model.evaluate(test_features, test_labels)\n",
        "```"
      ]
    },
    {
      "cell_type": "code",
      "execution_count": 21,
      "metadata": {
        "id": "ulEXLsUn9jbq",
        "outputId": "1545815c-f377-479e-cf0a-ea6a7872125b",
        "colab": {
          "base_uri": "https://localhost:8080/"
        }
      },
      "outputs": [
        {
          "output_type": "stream",
          "name": "stdout",
          "text": [
            "313/313 [==============================] - 4s 11ms/step - loss: 0.0996 - accuracy: 0.9705\n"
          ]
        },
        {
          "output_type": "execute_result",
          "data": {
            "text/plain": [
              "[0.09955864399671555, 0.9704999923706055]"
            ]
          },
          "metadata": {},
          "execution_count": 21
        }
      ],
      "source": [
        "# Code it!\n",
        "model.evaluate(test_features, test_labels)"
      ]
    },
    {
      "cell_type": "markdown",
      "metadata": {
        "id": "tl0qNmgG9jbq"
      },
      "source": [
        "## 10. Model predictions\n",
        "\n",
        "Let's see how the model performs on some randomly selected images.  Are its predictions correct?  \n",
        "\n",
        "Randomly select an image from the test dataset, in this case, the 200th image.\n",
        "\n",
        "Select a specific image from the test dataset for examination or prediction.\n",
        "\n",
        "The variable `loc` is set to the index 200, which means we are selecting the 201st image (0-based index) from the test dataset.\n",
        "\n",
        "```python\n",
        "loc = 200\n",
        "\n",
        "# Extract the corresponding image from the test_features array and store it in the 'test_image' variable.\n",
        "test_image = test_features[loc]\n",
        "```"
      ]
    },
    {
      "cell_type": "code",
      "execution_count": 22,
      "metadata": {
        "id": "7zBhMXqR9jbq"
      },
      "outputs": [],
      "source": [
        "# Code it!\n",
        "loc = 200\n",
        "\n",
        "# Extract the corresponding image from the test_features array and store it in the 'test_image' variable.\n",
        "test_image = test_features[loc]"
      ]
    },
    {
      "cell_type": "markdown",
      "metadata": {
        "id": "JnjBGXeK9jbq"
      },
      "source": [
        "First, let's take a look at the shape of the image.\n",
        "\n",
        "* Get and display the shape (dimensions) of the `test_image` variable.\n",
        "* This provides insight into the structure and size of the image.\n",
        "\n",
        "```python\n",
        "test_image.shape\n",
        "```"
      ]
    },
    {
      "cell_type": "code",
      "execution_count": 23,
      "metadata": {
        "id": "Kx6Ieheq9jbq",
        "outputId": "3eb21839-b6f6-45ca-a983-f3a5b999be09",
        "colab": {
          "base_uri": "https://localhost:8080/"
        }
      },
      "outputs": [
        {
          "output_type": "execute_result",
          "data": {
            "text/plain": [
              "(28, 28)"
            ]
          },
          "metadata": {},
          "execution_count": 23
        }
      ],
      "source": [
        "# Code it!\n",
        "test_image.shape"
      ]
    },
    {
      "cell_type": "markdown",
      "metadata": {
        "id": "SGSfjums9jbq"
      },
      "source": [
        "We see that our image is 28x28 pixels. However, the model needs not just the size of the image but also the number of channels. A simple call to the `reshape()` method fixes that problem.\n",
        "\n",
        "* Reshape the 'test_image' from a 2D array (28x28) to a 3D array (1x28x28).\n",
        "* This is commonly done to match the input shape that the model expects when making predictions on single samples.\n",
        "\n",
        "```python\n",
        "test_image = test_image.reshape(1,28,28)\n",
        "```"
      ]
    },
    {
      "cell_type": "code",
      "execution_count": 24,
      "metadata": {
        "id": "6LXR2ndO9jbq"
      },
      "outputs": [],
      "source": [
        "# Code it!\n",
        "test_image = test_image.reshape(1,28,28)"
      ]
    },
    {
      "cell_type": "markdown",
      "metadata": {
        "id": "aC7UuhG09jbr"
      },
      "source": [
        "Now call the model's `predict()` method, assign the output to result, and then view its contents.\n",
        "\n",
        "* Use the trained model to predict the label for the `test_image`.\n",
        "* The `predict` method returns an array of probabilities for each possible label (in the case of MNIST, digits 0-9).\n",
        "* Each value in the array corresponds to the model's predicted probability that the image belongs to a particular class (digit).\n",
        "\n",
        "```python\n",
        "result = model.predict(test_image)\n",
        "\n",
        "# Print the array of probabilities to the console.\n",
        "print(result)\n",
        "```"
      ]
    },
    {
      "cell_type": "code",
      "execution_count": 25,
      "metadata": {
        "id": "-JsDCbqj9jbr",
        "outputId": "6ad36039-7b18-4367-9761-6087b6518c5b",
        "colab": {
          "base_uri": "https://localhost:8080/"
        }
      },
      "outputs": [
        {
          "output_type": "stream",
          "name": "stdout",
          "text": [
            "1/1 [==============================] - 0s 98ms/step\n",
            "[[2.1127100e-13 1.8140881e-11 4.5170182e-08 9.9999988e-01 2.3854491e-17 1.0538879e-08 3.1180322e-17 1.5046455e-16 1.5257608e-07 2.2457267e-10]]\n"
          ]
        }
      ],
      "source": [
        "# Code it!\n",
        "result = model.predict(test_image)\n",
        "\n",
        "# Print the array of probabilities to the console.\n",
        "print(result)"
      ]
    },
    {
      "cell_type": "markdown",
      "metadata": {
        "id": "7Xm7OMHJ9jbr"
      },
      "source": [
        "As we see, the model has returned the probability of 10 predictions, with the highest one being the most likely.  Use the `argmax` function to see the model's prediction.\n",
        "\n",
        "* Use the `argmax` method to find the index (label) of the maximum value in the `result` array.\n",
        "   * This gives us the model's most likely prediction for the class (digit) of the `test_image`.\n",
        "\n",
        "```python\n",
        "result.argmax()\n",
        "```"
      ]
    },
    {
      "cell_type": "code",
      "execution_count": 26,
      "metadata": {
        "id": "sjXqOIM19jbr",
        "outputId": "cb7a2caa-9b95-4d9c-af50-22d4aa6422ad",
        "colab": {
          "base_uri": "https://localhost:8080/"
        }
      },
      "outputs": [
        {
          "output_type": "execute_result",
          "data": {
            "text/plain": [
              "3"
            ]
          },
          "metadata": {},
          "execution_count": 26
        }
      ],
      "source": [
        "# Code it!\n",
        "result.argmax()"
      ]
    },
    {
      "cell_type": "markdown",
      "metadata": {
        "id": "QzI2yqxB9jbr"
      },
      "source": [
        "To verify the prediction, check the label of the corresponding image.\n",
        "\n",
        "\n",
        "* Using the index loc, retrieve the true label (actual digit) for the `test_image` from the `test_labels` array.\n",
        "   * This gives us the actual class (digit) of the `test_image` to compare with the model's prediction.\n",
        "\n",
        "```python\n",
        "test_labels[loc]\n",
        "```"
      ]
    },
    {
      "cell_type": "code",
      "execution_count": 27,
      "metadata": {
        "id": "51AxFXYX9jbr",
        "outputId": "7cbf3ba9-db85-4288-a989-2fc3f4d8f5b2",
        "colab": {
          "base_uri": "https://localhost:8080/"
        }
      },
      "outputs": [
        {
          "output_type": "execute_result",
          "data": {
            "text/plain": [
              "3"
            ]
          },
          "metadata": {},
          "execution_count": 27
        }
      ],
      "source": [
        "# Code it!\n",
        "test_labels[loc]"
      ]
    },
    {
      "cell_type": "markdown",
      "metadata": {
        "id": "ydzhry0L9jbr"
      },
      "source": [
        "Finally, visualize the image with pyplot.\n",
        "\n",
        "* Use the `imshow` function from the `matplotlib` library to display the `test_image` as a visual image.\n",
        "   * This helps in visually examining the content of the `test_image` (which is represented as a 28x28 array of pixel values).\n",
        "\n",
        "```python\n",
        "plt.imshow(test_features[loc])\n",
        "```"
      ]
    },
    {
      "cell_type": "code",
      "execution_count": 28,
      "metadata": {
        "id": "_W8yAW719jbv",
        "outputId": "81e5c75b-b6fc-44e0-cef9-7365d6868b51",
        "colab": {
          "base_uri": "https://localhost:8080/",
          "height": 447
        }
      },
      "outputs": [
        {
          "output_type": "execute_result",
          "data": {
            "text/plain": [
              "<matplotlib.image.AxesImage at 0x78164023c6a0>"
            ]
          },
          "metadata": {},
          "execution_count": 28
        },
        {
          "output_type": "display_data",
          "data": {
            "text/plain": [
              "<Figure size 640x480 with 1 Axes>"
            ],
            "image/png": "[encoded data removed]"
          },
          "metadata": {}
        }
      ],
      "source": [
        "# Code it!\n",
        "plt.imshow(test_features[loc])"
      ]
    },
    {
      "cell_type": "markdown",
      "metadata": {
        "id": "_o0LSU1t9jbw"
      },
      "source": [
        "And we did it! We helped Amelia create a model that can recognize handwritten digits!\n",
        "\n",
        "\n",
        "## Bonus exercise\n",
        "\n",
        "* Write a function that ties all these steps into one function call. The function should take an input image and print the image with the predicted digit and true digit."
      ]
    },
    {
      "cell_type": "markdown",
      "metadata": {
        "tags": [],
        "id": "Uz2GRfib9jbw"
      },
      "source": [
        "## Before continuing\n",
        "###  <img src='https://github.com/nlacand-corys/deep_learning/blob/main/images/alert_icon.svg?raw=1' alt=\"Alert icon\" width=40 align=center> Alert!\n",
        "> Before continuing to another notebook within the same Jupyter session,\n",
        "> use the **\"Running Terminals and Kernels\" tab** (below the File Browser tab) to **shut down this kernel**.\n",
        "> This will free up this notebook's GPU memory, making it available for\n",
        "> your next notebook.\n",
        ">\n",
        "> Every time you run multiple notebooks within a Jupyter session with a GPU, this should be done.\n",
        ">\n",
        "> ![Screenshot of the Running Terminals and Kernels tab used t oshut down kernels before starting a new notebook](https://github.com/nlacand-corys/deep_learning/blob/main/images/stop_kernel.png?raw=1)\n",
        "\n",
        "----\n",
        "## Push changes to GitHub <img src=\"https://github.com/nlacand-corys/deep_learning/blob/main/images/push_to_github.png?raw=1\" alt=\"Push to GitHub icon\" align=\"right\" width=150>\n",
        "\n",
        " Remember to **add**, **commit**, and **push** the changes you have made to this notebook to GitHub to keep your repository in sync.\n",
        "\n",
        "In Jupyter, those are done in the git tab on the left. In Google Colab, use File > Save a copy in GitHub.\n"
      ]
    },
    {
      "cell_type": "code",
      "execution_count": null,
      "metadata": {
        "id": "VqwW7oav9jbw"
      },
      "outputs": [],
      "source": []
    }
  ],
  "metadata": {
    "kernelspec": {
      "display_name": "Tensorflow-2.15",
      "language": "python",
      "name": "tensorflow-2.15"
    },
    "language_info": {
      "codemirror_mode": {
        "name": "ipython",
        "version": 3
      },
      "file_extension": ".py",
      "mimetype": "text/x-python",
      "name": "python",
      "nbconvert_exporter": "python",
      "pygments_lexer": "ipython3",
      "version": "3.11.5"
    },
    "colab": {
      "provenance": []
    }
  },
  "nbformat": 4,
  "nbformat_minor": 0
}